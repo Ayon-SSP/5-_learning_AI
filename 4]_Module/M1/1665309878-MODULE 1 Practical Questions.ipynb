{
 "cells": [
  {
   "cell_type": "markdown",
   "metadata": {},
   "source": [
    "# MODULE 1 Practical Questions"
   ]
  },
  {
   "cell_type": "markdown",
   "metadata": {},
   "source": [
    "## Section 1\n"
   ]
  },
  {
   "cell_type": "markdown",
   "metadata": {},
   "source": [
    "### 1. Write a Python program to swap first and last element of the list."
   ]
  },
  {
   "cell_type": "code",
   "execution_count": 1,
   "metadata": {},
   "outputs": [
    {
     "name": "stdout",
     "output_type": "stream",
     "text": [
      "x -> 5 y -> 4\n"
     ]
    }
   ],
   "source": [
    "x,y = map(int,input().split())\n",
    "x,y = y,x\n",
    "print(f\"x -> {x} y -> {y}\")"
   ]
  },
  {
   "cell_type": "markdown",
   "metadata": {},
   "source": [
    "### 3. Given a list of numbers, you need to write a Python program to find the second largest number in the list"
   ]
  },
  {
   "cell_type": "code",
   "execution_count": 2,
   "metadata": {},
   "outputs": [
    {
     "data": {
      "text/plain": [
       "90"
      ]
     },
     "execution_count": 2,
     "metadata": {},
     "output_type": "execute_result"
    }
   ],
   "source": [
    "a=[10,56,23,89,23,45,90,110,34,78]\n",
    "a.sort()\n",
    "a[-2]"
   ]
  },
  {
   "cell_type": "markdown",
   "metadata": {},
   "source": [
    "###  4. Write a program to perform addition, subtraction, multiplication, integer division, floor division and modulo division on two integer and float."
   ]
  },
  {
   "cell_type": "code",
   "execution_count": 3,
   "metadata": {},
   "outputs": [
    {
     "name": "stdout",
     "output_type": "stream",
     "text": [
      "1.addition\n",
      "2.subtraction\n",
      "3.multiplication\n",
      "4.divsion\n",
      "5. modules\n",
      "4.0 % 5.0 = 4.0\n"
     ]
    }
   ],
   "source": [
    "def addition(x,y):\n",
    "    return x+y \n",
    "def subtraction(x,y):\n",
    "    return x-y\n",
    "def multiplication(x,y):\n",
    "    return x*y\n",
    "def division(x,y):\n",
    "    return x/y\n",
    "def modules(x,y):\n",
    "    return x%y \n",
    "print(\"1.addition\")\n",
    "print(\"2.subtraction\")\n",
    "print(\"3.multiplication\")\n",
    "print(\"4.divsion\")\n",
    "print(\"5.modules\")\n",
    "choice=int(input(\"Enter your choice 1/2/3/4/5\"))\n",
    "a=float(input(\"enter 1st no:\"))\n",
    "b=float(input(\"enter 2nd no:\"))\n",
    "if choice==1:\n",
    "    print(a,\"+\",b,\"=\",addition(a,b))\n",
    "elif choice==2:\n",
    "    print(a,\"-\",b,\"=\",subtraction(a,b))\n",
    "elif choice==3:\n",
    "    print(a,\"*\",b,\"=\",multiplication(a,b)) \n",
    "elif choice==4:\n",
    "    print(a,\"/\",b,\"=\",division(a,b))\n",
    "elif choice==5:\n",
    "    print(a,\"%\",b,\"=\",modules(a,b))\n",
    "else: \n",
    "    print(\"invalid input\")"
   ]
  },
  {
   "cell_type": "markdown",
   "metadata": {},
   "source": [
    "### 6. Write a python program to find whether given string is palindrome. eg: amaama"
   ]
  },
  {
   "cell_type": "code",
   "execution_count": 5,
   "metadata": {},
   "outputs": [
    {
     "name": "stdout",
     "output_type": "stream",
     "text": [
      "palindrome\n"
     ]
    }
   ],
   "source": [
    "st = input()\n",
    "print(\"palindrome\" if st == st[::-1] else \"not palindrome\")"
   ]
  },
  {
   "cell_type": "markdown",
   "metadata": {},
   "source": [
    "### 8. Write a python program to find the sum of dictionary values dicta = {'a': 100, 'b': 200, 'c': 300}\n"
   ]
  },
  {
   "cell_type": "code",
   "execution_count": 15,
   "metadata": {},
   "outputs": [
    {
     "data": {
      "text/plain": [
       "600"
      ]
     },
     "execution_count": 15,
     "metadata": {},
     "output_type": "execute_result"
    }
   ],
   "source": [
    "dicta = {'a': 100, 'b': 200, 'c': 300}\n",
    "sum(dicta.values())"
   ]
  },
  {
   "cell_type": "markdown",
   "metadata": {},
   "source": [
    "## section 2"
   ]
  },
  {
   "cell_type": "markdown",
   "metadata": {},
   "source": [
    "### 1 Write a python program to multiply an Identity matrix of dimension 3-by-3 with given matrix\n",
    "    a=[[ 9 10 11]\n",
    "    [12 13 14]\n",
    "    [15 16 17]]"
   ]
  },
  {
   "cell_type": "code",
   "execution_count": 16,
   "metadata": {},
   "outputs": [
    {
     "data": {
      "text/plain": [
       "array([[ 9., 10., 11.],\n",
       "       [12., 13., 14.],\n",
       "       [15., 16., 17.]])"
      ]
     },
     "execution_count": 16,
     "metadata": {},
     "output_type": "execute_result"
    }
   ],
   "source": [
    "import numpy as np\n",
    "a=[[ 9, 10, 11],\n",
    "    [12, 13, 14],\n",
    "    [15, 16, 17]]\n",
    "IdM = np.identity(3)\n",
    "\n",
    "np.dot(a,IdM)"
   ]
  },
  {
   "cell_type": "markdown",
   "metadata": {},
   "source": [
    "### 3 Write a python program to flatten the NumPy matrix of size 3-by-3\n",
    "    a=[[ 9 10 11]\n",
    "    [12 13 14]\n",
    "    [15 16 17]]"
   ]
  },
  {
   "cell_type": "code",
   "execution_count": 18,
   "metadata": {},
   "outputs": [
    {
     "data": {
      "text/plain": [
       "array([ 9, 10, 11, 12, 13, 14, 15, 16, 17])"
      ]
     },
     "execution_count": 18,
     "metadata": {},
     "output_type": "execute_result"
    }
   ],
   "source": [
    "import numpy as np\n",
    "a= np.array([[ 9, 10, 11],\n",
    "[12, 13, 14],\n",
    "[15, 16, 17]])\n",
    "a.flatten()"
   ]
  },
  {
   "cell_type": "markdown",
   "metadata": {},
   "source": [
    "### 6. Write a python program to subtract matrices of dimension 3-by-3 with given matrix\n",
    "    a=[[ 99, 110, 111]\n",
    "       [121, 131, 114]\n",
    "       [151, 146, 177]]\n",
    "    b=[[ 19, 30, 11]\n",
    "       [12, 13, 44] \n",
    "       [15, 56, 17]]"
   ]
  },
  {
   "cell_type": "code",
   "execution_count": 5,
   "metadata": {},
   "outputs": [
    {
     "data": {
      "text/plain": [
       "array([[ 80,  80, 100],\n",
       "       [109, 118,  70],\n",
       "       [136,  90, 160]])"
      ]
     },
     "execution_count": 5,
     "metadata": {},
     "output_type": "execute_result"
    }
   ],
   "source": [
    "import numpy as np\n",
    "a=np.array([[ 99, 110, 111],\n",
    "    [121, 131, 114],\n",
    "    [151, 146, 177]])\n",
    "b=np.array([[ 19, 30, 11],\n",
    "    [12, 13, 44] ,\n",
    "    [15, 56, 17]])\n",
    "ans = np.subtract(a, b)\n",
    "ans"
   ]
  },
  {
   "cell_type": "markdown",
   "metadata": {},
   "source": [
    "## section 3"
   ]
  },
  {
   "cell_type": "markdown",
   "metadata": {},
   "source": [
    "### 1 Write a python Matplotlib program to plot graph between x & y coordinates for below values:\n",
    "    x = [1, 2, 3, 4, 5, 6, 7, 8]\n",
    "    y = [2, 3, 1, 3, 1, 4, 2, 3]"
   ]
  },
  {
   "cell_type": "code",
   "execution_count": 7,
   "metadata": {},
   "outputs": [
    {
     "data": {
      "text/plain": [
       "[<matplotlib.lines.Line2D at 0x1a6bd546b00>]"
      ]
     },
     "execution_count": 7,
     "metadata": {},
     "output_type": "execute_result"
    },
    {
     "data": {
      "image/png": "[encoded data removed]",
      "text/plain": [
       "<Figure size 640x480 with 1 Axes>"
      ]
     },
     "metadata": {},
     "output_type": "display_data"
    }
   ],
   "source": [
    "from matplotlib import pyplot as plt\n",
    "x = [1, 2, 3, 4, 5, 6, 7, 8]\n",
    "y = [2, 3, 1, 3, 1, 4, 2, 3]\n",
    "plt.plot(x, y)"
   ]
  },
  {
   "cell_type": "markdown",
   "metadata": {},
   "source": [
    "### Write a program to connect scatterplot points with line in Matplotlib?"
   ]
  },
  {
   "cell_type": "code",
   "execution_count": 1,
   "metadata": {},
   "outputs": [
    {
     "data": {
      "image/png": "[encoded data removed]",
      "text/plain": [
       "<Figure size 640x480 with 1 Axes>"
      ]
     },
     "metadata": {},
     "output_type": "display_data"
    }
   ],
   "source": [
    "import numpy as np\n",
    "import matplotlib.pyplot as plt\n",
    "  \n",
    "# initialize x and y coordinates\n",
    "x = [0.1, 0.2, 0.3, 0.4, 0.5]\n",
    "y = [6.2, -8.4, 8.5, 9.2, -6.3]\n",
    "  \n",
    "plt.title(\"Connected Scatterplot points with line\")\n",
    "plt.plot(x, y, marker=\"*\")\n",
    "plt.show()"
   ]
  },
  {
   "cell_type": "markdown",
   "metadata": {},
   "source": [
    "## section 4"
   ]
  },
  {
   "cell_type": "markdown",
   "metadata": {},
   "source": [
    "### 1 In Linux environment, create a python file for addition of two lists. Run piece of code from terminal"
   ]
  },
  {
   "cell_type": "markdown",
   "metadata": {},
   "source": [
    "<img src=\"pyFile.jpg\" />"
   ]
  },
  {
   "cell_type": "markdown",
   "metadata": {},
   "source": [
    "### 2. In Linux environment create two folders named Folder1 and Folder2. Place some .txt file in Folder1. Write needful commands in terminal to move the contents from Folder1 to Folder2."
   ]
  },
  {
   "cell_type": "markdown",
   "metadata": {},
   "source": [
    "<img  src=\"cp.jpg\"/>"
   ]
  },
  {
   "cell_type": "markdown",
   "metadata": {},
   "source": [
    "### 3. In Linux environment,\n",
    "     i. list all hidden files in home directory\n",
    "     ii. remove a directory with subdirectories and files in it"
   ]
  },
  {
   "cell_type": "markdown",
   "metadata": {},
   "source": [
    "<img  src=\"lsa.jpg\"/>"
   ]
  }
 ],
 "metadata": {
  "kernelspec": {
   "display_name": "Python 3.10.8 64-bit (microsoft store)",
   "language": "python",
   "name": "python3"
  },
  "language_info": {
   "codemirror_mode": {
    "name": "ipython",
    "version": 3
   },
   "file_extension": ".py",
   "mimetype": "text/x-python",
   "name": "python",
   "nbconvert_exporter": "python",
   "pygments_lexer": "ipython3",
   "version": "3.10.8"
  },
  "orig_nbformat": 4,
  "vscode": {
   "interpreter": {
    "hash": "8bf0d51478355d2251941b3b98616086516a0eddd7c72ee47a3371765770709a"
   }
  }
 },
 "nbformat": 4,
 "nbformat_minor": 2
}
