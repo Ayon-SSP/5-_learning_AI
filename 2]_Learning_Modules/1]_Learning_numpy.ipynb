{
 "cells": [
  {
   "cell_type": "code",
   "execution_count": 19,
   "metadata": {},
   "outputs": [],
   "source": [
    "import numpy as np"
   ]
  },
  {
   "cell_type": "code",
   "execution_count": 140,
   "metadata": {},
   "outputs": [
    {
     "data": {
      "text/plain": [
       "array([8, 9])"
      ]
     },
     "execution_count": 140,
     "metadata": {},
     "output_type": "execute_result"
    }
   ],
   "source": [
    "lst = np.array([[1, 2, 3, 4, 5], [6, 7, 8, 9, 10]])\n",
    "lst[0:2, 1:4]   #array([[2, 3, 4],\n",
    "                     # [7, 8, 9]])            #------------------------------(rem)\n",
    "lst[-1,2:4]     # array([8, 9])                      "
   ]
  },
  {
   "cell_type": "code",
   "execution_count": 83,
   "metadata": {},
   "outputs": [
    {
     "name": "stdout",
     "output_type": "stream",
     "text": [
      "<class 'numpy.ndarray'>\n"
     ]
    }
   ],
   "source": [
    "lst = np.array([1,2,3,4,5])\n",
    "np.amin(lst)       # 1\n",
    "np.amax(lst)       # 5\n",
    "np.mean(lst)       # 3\n",
    "np.median(lst)     # 3\n",
    "np.ptp(lst)        # 4        Range = max value – min value. np.ptp(arr, axis = 0) -> in 2d\n",
    "np.std(lst)        # 1.5811388300841898     standed deviation\n",
    "np.var(lst)        # 2.0                    variance   var = mean(abs(x-x.mean())**2)\n",
    "np.average(lst)    # 3.0                    average    average = sum(x)/len(x)\n",
    "# np.percentile()    # 3.0                    percentile  percentile = np.percentile(arr, 50)\n",
    "np.sort(lst)       # array([1, 2, 3, 4, 5])\n",
    "np.ndim(lst)       # 1    numbe of \n",
    "np.shape(lst)      # (5,)    shape of array\n",
    "type(lst)     # numpy.ndarray\n",
    "# lst.data()     # [1 2 3 4 5]\n",
    "lst.dtype        # int32\n",
    "print(type(lst))"
   ]
  },
  {
   "cell_type": "code",
   "execution_count": 54,
   "metadata": {},
   "outputs": [
    {
     "data": {
      "text/plain": [
       "<function ndarray.item>"
      ]
     },
     "execution_count": 54,
     "metadata": {},
     "output_type": "execute_result"
    }
   ],
   "source": [
    "lst_2d = [[1, 2, 3, 4, 5], \n",
    "          [6, 7, 8, 9, 10],\n",
    "          [11, 12, 13, 14, 15] ]\n",
    "lst_2d = np.array(lst_2d)\n",
    "lst_2d.dtype      # dtype('int32')\n",
    "lst_2d.itemsize   # 4\n",
    "lst_2d.item       # <function ndarray.item>"
   ]
  },
  {
   "cell_type": "code",
   "execution_count": 60,
   "metadata": {},
   "outputs": [
    {
     "data": {
      "text/plain": [
       "array([[ 1.,  2.,  3.,  4.,  5.],\n",
       "       [ 6.,  7.,  8.,  9., 10.],\n",
       "       [11., 12., 13., 14., 15.]])"
      ]
     },
     "execution_count": 60,
     "metadata": {},
     "output_type": "execute_result"
    }
   ],
   "source": [
    "lst_2d = [[1, 2, 3, 4, 5], \n",
    "          [6, 7, 8, 9, 10],\n",
    "          [11, 12, 13, 14, 15] ]\n",
    "lst_2d = np.array(lst_2d,dtype=np.float64)\n",
    "lst_2d"
   ]
  },
  {
   "cell_type": "code",
   "execution_count": 56,
   "metadata": {},
   "outputs": [
    {
     "data": {
      "text/plain": [
       "array([[ 1.+0.j,  2.+0.j,  3.+0.j,  4.+0.j,  5.+0.j],\n",
       "       [ 6.+0.j,  7.+0.j,  8.+0.j,  9.+0.j, 10.+0.j],\n",
       "       [11.+0.j, 12.+0.j, 13.+0.j, 14.+0.j, 15.+0.j]], dtype=complex64)"
      ]
     },
     "execution_count": 56,
     "metadata": {},
     "output_type": "execute_result"
    }
   ],
   "source": [
    "lst_2d = [[1, 2, 3, 4, 5], \n",
    "          [6, 7, 8, 9, 10],\n",
    "          [11, 12, 13, 14, 15] ]\n",
    "lst_2d = np.array(lst_2d,dtype=np.complex64)\n",
    "lst_2d"
   ]
  },
  {
   "cell_type": "code",
   "execution_count": 154,
   "metadata": {},
   "outputs": [
    {
     "data": {
      "text/plain": [
       "array([ 1,  2,  3,  4,  5,  6,  7,  8,  9, 10, 11, 12, 13, 14, 15])"
      ]
     },
     "execution_count": 154,
     "metadata": {},
     "output_type": "execute_result"
    }
   ],
   "source": [
    "lst_2d = [[1, 2, 3, 4, 5], \n",
    "          [6, 7, 8, 9, 10],\n",
    "          [11, 12, 13, 14, 15] ]\n",
    "lst_2d = np.array(lst_2d)\n",
    "np.sum(lst_2d)     # 120\n",
    "np.sum(lst_2d, axis = 0)     # array([16, 17, 18, 19, 20])\n",
    "np.sum(lst_2d,axis= 1)       # array([15, 40, 65])\n",
    "np.max(lst_2d)      # 15\n",
    "np.amax(lst_2d)     # 15\n",
    "np.max(lst_2d, axis = 1)        # array([ 5, 10, 15])\n",
    "np.amax(lst_2d, axis = 1)       # array([ 5, 10, 15])\n",
    "np.argmax(lst_2d, axis = 1)     # array([0, 1, 2, 3, 4])\n",
    "np.mean(lst_2d)    # 8.0\n",
    "np.median(lst_2d)  # 8.0\n",
    "np.std(lst_2d)     # 4.320493798938574\n",
    "np.var(lst_2d)     # 18.666666666666668\n",
    "np.percentile(lst_2d, 50) # 8.0\n",
    "np.reshape(lst_2d, (5, 3))\n",
    "np.ptp(lst_2d)     # 14\n",
    "np.reshape(lst_2d, (-1))      # array([1, 2, 3, 4, 5, 6, 7, 8, 9, 10, 11, 12, 13, 14, 15])\n"
   ]
  },
  {
   "cell_type": "code",
   "execution_count": 133,
   "metadata": {},
   "outputs": [
    {
     "data": {
      "text/plain": [
       "5.5"
      ]
     },
     "execution_count": 133,
     "metadata": {},
     "output_type": "execute_result"
    }
   ],
   "source": [
    "values = np.array([0, 1, 2, 3, 4, 5, 6, 7, 8, 9, 10])\n",
    "frequences = np.array([3, 4, 2, 3, 2, 1, 1, 1, 1, 1, 1])  \n",
    "np.average(values,weights=frequences) #  4.117647058823529   avg = sum(a * weights) / sum(weights)\n",
    "lst = np.array([5,6])\n",
    "np.percentile(lst, 50)"
   ]
  },
  {
   "cell_type": "code",
   "execution_count": 144,
   "metadata": {},
   "outputs": [
    {
     "data": {
      "text/plain": [
       "array([[ 1,  2,  3,  4],\n",
       "       [ 5,  6,  7,  8],\n",
       "       [ 9, 10, 11, 12]])"
      ]
     },
     "execution_count": 144,
     "metadata": {},
     "output_type": "execute_result"
    }
   ],
   "source": [
    "lt = np.arange(1,13).reshape(3, 4)\n",
    "lt"
   ]
  },
  {
   "cell_type": "code",
   "execution_count": 147,
   "metadata": {},
   "outputs": [
    {
     "data": {
      "text/plain": [
       "array([[ 0,  1,  2,  3, 13, 14, 15, 16],\n",
       "       [ 4,  5,  6,  7, 17, 18, 19, 20],\n",
       "       [ 8,  9, 10, 11, 21, 22, 23, 24]])"
      ]
     },
     "execution_count": 147,
     "metadata": {},
     "output_type": "execute_result"
    }
   ],
   "source": [
    "a = np.arange(12).reshape(3, 4)\n",
    "b = np.arange(13,13+12).reshape(3, 4)\n",
    "np.vstack((a,b))\n",
    "np.hstack((a,b)) "
   ]
  },
  {
   "cell_type": "code",
   "execution_count": 148,
   "metadata": {},
   "outputs": [
    {
     "data": {
      "text/plain": [
       "array([[0., 0., 0., 0.],\n",
       "       [0., 0., 0., 0.],\n",
       "       [0., 0., 0., 0.],\n",
       "       [0., 0., 0., 0.],\n",
       "       [0., 0., 0., 0.]])"
      ]
     },
     "execution_count": 148,
     "metadata": {},
     "output_type": "execute_result"
    }
   ],
   "source": [
    "np.zeros((5,4))"
   ]
  },
  {
   "cell_type": "code",
   "execution_count": 152,
   "metadata": {},
   "outputs": [
    {
     "data": {
      "text/plain": [
       "array([[0.71553541, 0.31696757, 0.80197429, 0.46283947],\n",
       "       [0.66809138, 0.47776565, 0.64520044, 0.70261601],\n",
       "       [0.36302321, 0.31651717, 0.65130959, 0.41251358]])"
      ]
     },
     "execution_count": 152,
     "metadata": {},
     "output_type": "execute_result"
    }
   ],
   "source": [
    "from numpy import random\n",
    "random.randint(0,10,(3,4))\n",
    "# array([[3, 0, 5, 7],\n",
    "#        [7, 7, 8, 2],\n",
    "#        [3, 1, 2, 3]])\n",
    "random.random((3,4))\n"
   ]
  },
  {
   "cell_type": "code",
   "execution_count": 117,
   "metadata": {},
   "outputs": [
    {
     "name": "stdout",
     "output_type": "stream",
     "text": [
      "Help on function percentile in module numpy:\n",
      "\n",
      "percentile(a, q, axis=None, out=None, overwrite_input=False, method='linear', keepdims=False, *, interpolation=None)\n",
      "    Compute the q-th percentile of the data along the specified axis.\n",
      "    \n",
      "    Returns the q-th percentile(s) of the array elements.\n",
      "    \n",
      "    Parameters\n",
      "    ----------\n",
      "    a : array_like\n",
      "        Input array or object that can be converted to an array.\n",
      "    q : array_like of float\n",
      "        Percentile or sequence of percentiles to compute, which must be between\n",
      "        0 and 100 inclusive.\n",
      "    axis : {int, tuple of int, None}, optional\n",
      "        Axis or axes along which the percentiles are computed. The\n",
      "        default is to compute the percentile(s) along a flattened\n",
      "        version of the array.\n",
      "    \n",
      "        .. versionchanged:: 1.9.0\n",
      "            A tuple of axes is supported\n",
      "    out : ndarray, optional\n",
      "        Alternative output array in which to place the result. It must\n",
      "        have the same shape and buffer length as the expected output,\n",
      "        but the type (of the output) will be cast if necessary.\n",
      "    overwrite_input : bool, optional\n",
      "        If True, then allow the input array `a` to be modified by intermediate\n",
      "        calculations, to save memory. In this case, the contents of the input\n",
      "        `a` after this function completes is undefined.\n",
      "    method : str, optional\n",
      "        This parameter specifies the method to use for estimating the\n",
      "        percentile.  There are many different methods, some unique to NumPy.\n",
      "        See the notes for explanation.  The options sorted by their R type\n",
      "        as summarized in the H&F paper [1]_ are:\n",
      "    \n",
      "        1. 'inverted_cdf'\n",
      "        2. 'averaged_inverted_cdf'\n",
      "        3. 'closest_observation'\n",
      "        4. 'interpolated_inverted_cdf'\n",
      "        5. 'hazen'\n",
      "        6. 'weibull'\n",
      "        7. 'linear'  (default)\n",
      "        8. 'median_unbiased'\n",
      "        9. 'normal_unbiased'\n",
      "    \n",
      "        The first three methods are discontiuous.  NumPy further defines the\n",
      "        following discontinuous variations of the default 'linear' (7.) option:\n",
      "    \n",
      "        * 'lower'\n",
      "        * 'higher',\n",
      "        * 'midpoint'\n",
      "        * 'nearest'\n",
      "    \n",
      "        .. versionchanged:: 1.22.0\n",
      "            This argument was previously called \"interpolation\" and only\n",
      "            offered the \"linear\" default and last four options.\n",
      "    \n",
      "    keepdims : bool, optional\n",
      "        If this is set to True, the axes which are reduced are left in\n",
      "        the result as dimensions with size one. With this option, the\n",
      "        result will broadcast correctly against the original array `a`.\n",
      "    \n",
      "        .. versionadded:: 1.9.0\n",
      "    \n",
      "    interpolation : str, optional\n",
      "        Deprecated name for the method keyword argument.\n",
      "    \n",
      "        .. deprecated:: 1.22.0\n",
      "    \n",
      "    Returns\n",
      "    -------\n",
      "    percentile : scalar or ndarray\n",
      "        If `q` is a single percentile and `axis=None`, then the result\n",
      "        is a scalar. If multiple percentiles are given, first axis of\n",
      "        the result corresponds to the percentiles. The other axes are\n",
      "        the axes that remain after the reduction of `a`. If the input\n",
      "        contains integers or floats smaller than ``float64``, the output\n",
      "        data-type is ``float64``. Otherwise, the output data-type is the\n",
      "        same as that of the input. If `out` is specified, that array is\n",
      "        returned instead.\n",
      "    \n",
      "    See Also\n",
      "    --------\n",
      "    mean\n",
      "    median : equivalent to ``percentile(..., 50)``\n",
      "    nanpercentile\n",
      "    quantile : equivalent to percentile, except q in the range [0, 1].\n",
      "    \n",
      "    Notes\n",
      "    -----\n",
      "    Given a vector ``V`` of length ``N``, the q-th percentile of ``V`` is\n",
      "    the value ``q/100`` of the way from the minimum to the maximum in a\n",
      "    sorted copy of ``V``. The values and distances of the two nearest\n",
      "    neighbors as well as the `method` parameter will determine the\n",
      "    percentile if the normalized ranking does not match the location of\n",
      "    ``q`` exactly. This function is the same as the median if ``q=50``, the\n",
      "    same as the minimum if ``q=0`` and the same as the maximum if\n",
      "    ``q=100``.\n",
      "    \n",
      "    This optional `method` parameter specifies the method to use when the\n",
      "    desired quantile lies between two data points ``i < j``.\n",
      "    If ``g`` is the fractional part of the index surrounded by ``i`` and\n",
      "    alpha and beta are correction constants modifying i and j.\n",
      "    \n",
      "    Below, 'q' is the quantile value, 'n' is the sample size and\n",
      "    alpha and beta are constants.\n",
      "    The following formula gives an interpolation \"i + g\" of where the quantile\n",
      "    would be in the sorted sample.\n",
      "    With 'i' being the floor and 'g' the fractional part of the result.\n",
      "    \n",
      "    .. math::\n",
      "        i + g = (q - alpha) / ( n - alpha - beta + 1 )\n",
      "    \n",
      "    The different methods then work as follows\n",
      "    \n",
      "    inverted_cdf:\n",
      "        method 1 of H&F [1]_.\n",
      "        This method gives discontinuous results:\n",
      "    \n",
      "        * if g > 0 ; then take j\n",
      "        * if g = 0 ; then take i\n",
      "    \n",
      "    averaged_inverted_cdf:\n",
      "        method 2 of H&F [1]_.\n",
      "        This method give discontinuous results:\n",
      "    \n",
      "        * if g > 0 ; then take j\n",
      "        * if g = 0 ; then average between bounds\n",
      "    \n",
      "    closest_observation:\n",
      "        method 3 of H&F [1]_.\n",
      "        This method give discontinuous results:\n",
      "    \n",
      "        * if g > 0 ; then take j\n",
      "        * if g = 0 and index is odd ; then take j\n",
      "        * if g = 0 and index is even ; then take i\n",
      "    \n",
      "    interpolated_inverted_cdf:\n",
      "        method 4 of H&F [1]_.\n",
      "        This method give continuous results using:\n",
      "    \n",
      "        * alpha = 0\n",
      "        * beta = 1\n",
      "    \n",
      "    hazen:\n",
      "        method 5 of H&F [1]_.\n",
      "        This method give continuous results using:\n",
      "    \n",
      "        * alpha = 1/2\n",
      "        * beta = 1/2\n",
      "    \n",
      "    weibull:\n",
      "        method 6 of H&F [1]_.\n",
      "        This method give continuous results using:\n",
      "    \n",
      "        * alpha = 0\n",
      "        * beta = 0\n",
      "    \n",
      "    linear:\n",
      "        method 7 of H&F [1]_.\n",
      "        This method give continuous results using:\n",
      "    \n",
      "        * alpha = 1\n",
      "        * beta = 1\n",
      "    \n",
      "    median_unbiased:\n",
      "        method 8 of H&F [1]_.\n",
      "        This method is probably the best method if the sample\n",
      "        distribution function is unknown (see reference).\n",
      "        This method give continuous results using:\n",
      "    \n",
      "        * alpha = 1/3\n",
      "        * beta = 1/3\n",
      "    \n",
      "    normal_unbiased:\n",
      "        method 9 of H&F [1]_.\n",
      "        This method is probably the best method if the sample\n",
      "        distribution function is known to be normal.\n",
      "        This method give continuous results using:\n",
      "    \n",
      "        * alpha = 3/8\n",
      "        * beta = 3/8\n",
      "    \n",
      "    lower:\n",
      "        NumPy method kept for backwards compatibility.\n",
      "        Takes ``i`` as the interpolation point.\n",
      "    \n",
      "    higher:\n",
      "        NumPy method kept for backwards compatibility.\n",
      "        Takes ``j`` as the interpolation point.\n",
      "    \n",
      "    nearest:\n",
      "        NumPy method kept for backwards compatibility.\n",
      "        Takes ``i`` or ``j``, whichever is nearest.\n",
      "    \n",
      "    midpoint:\n",
      "        NumPy method kept for backwards compatibility.\n",
      "        Uses ``(i + j) / 2``.\n",
      "    \n",
      "    Examples\n",
      "    --------\n",
      "    >>> a = np.array([[10, 7, 4], [3, 2, 1]])\n",
      "    >>> a\n",
      "    array([[10,  7,  4],\n",
      "           [ 3,  2,  1]])\n",
      "    >>> np.percentile(a, 50)\n",
      "    3.5\n",
      "    >>> np.percentile(a, 50, axis=0)\n",
      "    array([6.5, 4.5, 2.5])\n",
      "    >>> np.percentile(a, 50, axis=1)\n",
      "    array([7.,  2.])\n",
      "    >>> np.percentile(a, 50, axis=1, keepdims=True)\n",
      "    array([[7.],\n",
      "           [2.]])\n",
      "    \n",
      "    >>> m = np.percentile(a, 50, axis=0)\n",
      "    >>> out = np.zeros_like(m)\n",
      "    >>> np.percentile(a, 50, axis=0, out=out)\n",
      "    array([6.5, 4.5, 2.5])\n",
      "    >>> m\n",
      "    array([6.5, 4.5, 2.5])\n",
      "    \n",
      "    >>> b = a.copy()\n",
      "    >>> np.percentile(b, 50, axis=1, overwrite_input=True)\n",
      "    array([7.,  2.])\n",
      "    >>> assert not np.all(a == b)\n",
      "    \n",
      "    The different methods can be visualized graphically:\n",
      "    \n",
      "    .. plot::\n",
      "    \n",
      "        import matplotlib.pyplot as plt\n",
      "    \n",
      "        a = np.arange(4)\n",
      "        p = np.linspace(0, 100, 6001)\n",
      "        ax = plt.gca()\n",
      "        lines = [\n",
      "            ('linear', '-', 'C0'),\n",
      "            ('inverted_cdf', ':', 'C1'),\n",
      "            # Almost the same as `inverted_cdf`:\n",
      "            ('averaged_inverted_cdf', '-.', 'C1'),\n",
      "            ('closest_observation', ':', 'C2'),\n",
      "            ('interpolated_inverted_cdf', '--', 'C1'),\n",
      "            ('hazen', '--', 'C3'),\n",
      "            ('weibull', '-.', 'C4'),\n",
      "            ('median_unbiased', '--', 'C5'),\n",
      "            ('normal_unbiased', '-.', 'C6'),\n",
      "            ]\n",
      "        for method, style, color in lines:\n",
      "            ax.plot(\n",
      "                p, np.percentile(a, p, method=method),\n",
      "                label=method, linestyle=style, color=color)\n",
      "        ax.set(\n",
      "            title='Percentiles for different methods and data: ' + str(a),\n",
      "            xlabel='Percentile',\n",
      "            ylabel='Estimated percentile value',\n",
      "            yticks=a)\n",
      "        ax.legend()\n",
      "        plt.show()\n",
      "    \n",
      "    References\n",
      "    ----------\n",
      "    .. [1] R. J. Hyndman and Y. Fan,\n",
      "       \"Sample quantiles in statistical packages,\"\n",
      "       The American Statistician, 50(4), pp. 361-365, 1996\n",
      "\n"
     ]
    }
   ],
   "source": [
    "help(np.percentile)"
   ]
  },
  {
   "cell_type": "code",
   "execution_count": 157,
   "metadata": {},
   "outputs": [
    {
     "name": "stdout",
     "output_type": "stream",
     "text": [
      "1\n",
      "2\n",
      "3\n",
      "4\n",
      "5\n",
      "6\n",
      "7\n",
      "8\n",
      "b'1'\n",
      "b'2'\n",
      "b'3'\n"
     ]
    }
   ],
   "source": [
    "arr = np.array([[[1, 2], [3, 4]], [[5, 6], [7, 8]]])\n",
    "\n",
    "for x in np.nditer(arr):\n",
    "  print(x)\n",
    "  \n",
    "arr = np.array([1, 2, 3])\n",
    "\n",
    "for x in np.nditer(arr, flags=['buffered'], op_dtypes=['S']):\n",
    "  print(x)"
   ]
  },
  {
   "cell_type": "code",
   "execution_count": 20,
   "metadata": {},
   "outputs": [],
   "source": [
    "# lst[:,1] if it is 2d array complet clomn of index 1"
   ]
  }
 ],
 "metadata": {
  "kernelspec": {
   "display_name": "Python 3.10.6 64-bit (windows store)",
   "language": "python",
   "name": "python3"
  },
  "language_info": {
   "codemirror_mode": {
    "name": "ipython",
    "version": 3
   },
   "file_extension": ".py",
   "mimetype": "text/x-python",
   "name": "python",
   "nbconvert_exporter": "python",
   "pygments_lexer": "ipython3",
   "version": "3.10.6"
  },
  "orig_nbformat": 4,
  "vscode": {
   "interpreter": {
    "hash": "8bf0d51478355d2251941b3b98616086516a0eddd7c72ee47a3371765770709a"
   }
  }
 },
 "nbformat": 4,
 "nbformat_minor": 2
}
