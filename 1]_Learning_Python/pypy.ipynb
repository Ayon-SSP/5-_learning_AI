{
 "cells": [
  {
   "cell_type": "code",
   "execution_count": 2,
   "metadata": {},
   "outputs": [
    {
     "name": "stdout",
     "output_type": "stream",
     "text": [
      "98\n"
     ]
    }
   ],
   "source": [
    "T = int(input())\n",
    "print(T)"
   ]
  },
  {
   "cell_type": "code",
   "execution_count": 5,
   "metadata": {},
   "outputs": [],
   "source": [
    "int_val = 5\n",
    "float_tt = 1.0\n",
    "str_this = \"This is a string\""
   ]
  },
  {
   "cell_type": "code",
   "execution_count": 11,
   "metadata": {},
   "outputs": [
    {
     "name": "stdout",
     "output_type": "stream",
     "text": [
      "1,2,This\n",
      "111\n",
      "1\n",
      "2\n",
      "This\n"
     ]
    }
   ],
   "source": [
    "a,b,c = 1,2,\"This\"\n",
    "x=y=z=1                 \n",
    "print(a,b,c,sep=\",\")    #------------------------------(rem)\n",
    "print(x,y,z,sep=\"\")\n",
    "print(a,b,c,sep='\\n')\n",
    "del c        #it will delite           #------------------------------(rem)"
   ]
  },
  {
   "cell_type": "code",
   "execution_count": null,
   "metadata": {},
   "outputs": [],
   "source": [
    "# mutable:\n",
    "# Lists\n",
    "# Dicts\n",
    "# Sets\n",
    "# User-Defined Classes \n",
    "# Dictionaries\n",
    "\n",
    "#  immutable:\n",
    "# int\n",
    "# float\n",
    "# bool\n",
    "# string\n",
    "# Unicode\n",
    "# tuple\n",
    "# Numbers\n",
    "# Frozen Sets\n",
    "# User-Defined Classes\n",
    "# tuple -> lst = Change the values -> tuple"
   ]
  },
  {
   "cell_type": "markdown",
   "metadata": {},
   "source": [
    "### Strings & List"
   ]
  },
  {
   "cell_type": "code",
   "execution_count": 16,
   "metadata": {},
   "outputs": [
    {
     "data": {
      "text/plain": [
       "16"
      ]
     },
     "execution_count": 16,
     "metadata": {},
     "output_type": "execute_result"
    }
   ],
   "source": [
    "st = \"This is a string\"\n",
    "lst = [1,2,3,4,5]\n",
    "len(lst)                   # 5\n",
    "lst[::-1]                  # [5, 4, 3, 2, 1]\n",
    "lst[2:4]                   # [3, 4]\n",
    "lst[-3]                    # 3\n",
    "st[-11:-11+2]              # \"is\"\n",
    "len(st)                    # 16\n",
    "st[-16]"
   ]
  },
  {
   "cell_type": "code",
   "execution_count": 3,
   "metadata": {},
   "outputs": [
    {
     "data": {
      "text/plain": [
       "'one two zero'"
      ]
     },
     "execution_count": 3,
     "metadata": {},
     "output_type": "execute_result"
    }
   ],
   "source": [
    "# -----<Dot Formating>-----\n",
    "str0 = \"{} {} {}\".format(1,2,3)                        # 1 2 3\n",
    "# Positional Formatting\n",
    "str1 = \"{1} {0} {2}\".format(\"one\",\"zero\",\"two\")        # \"zero one two\"\n",
    "# Keyword Formatting\n",
    "str2 = \"{a} {c} {b}\".format(a=\"one\",b=\"zero\",c=\"two\")  # 'one two zero'\n",
    "\n"
   ]
  },
  {
   "cell_type": "code",
   "execution_count": null,
   "metadata": {},
   "outputs": [],
   "source": [
    "lstt1 = ['c',21,\"ayon\",True]"
   ]
  },
  {
   "cell_type": "code",
   "execution_count": 1,
   "metadata": {},
   "outputs": [
    {
     "data": {
      "text/plain": [
       "'ayon_karmakar'"
      ]
     },
     "execution_count": 1,
     "metadata": {},
     "output_type": "execute_result"
    }
   ],
   "source": [
    "\"ayon karmakar\".split(\" \")       # ['ayon', 'karmakar']\n",
    "'_'.join(['ayon','karmakar'])    # ayon_karmakar"
   ]
  },
  {
   "cell_type": "code",
   "execution_count": 2,
   "metadata": {},
   "outputs": [
    {
     "name": "stdout",
     "output_type": "stream",
     "text": [
      "ayon karmakar\n"
     ]
    }
   ],
   "source": [
    "st = \"ayon karmakar\"\n",
    "print(st)"
   ]
  },
  {
   "cell_type": "code",
   "execution_count": 11,
   "metadata": {},
   "outputs": [
    {
     "data": {
      "text/plain": [
       "2"
      ]
     },
     "execution_count": 11,
     "metadata": {},
     "output_type": "execute_result"
    }
   ],
   "source": [
    "lst =[1,2,3,4,5]\n",
    "lst.index(3)                 # 2"
   ]
  },
  {
   "cell_type": "markdown",
   "metadata": {},
   "source": [
    "### Tuple"
   ]
  },
  {
   "cell_type": "code",
   "execution_count": 78,
   "metadata": {},
   "outputs": [
    {
     "name": "stdout",
     "output_type": "stream",
     "text": [
      "('c', 21, 'ayon', True, 7.5, 1234, 'new')\n"
     ]
    }
   ],
   "source": [
    "tup1 = ('c',21,\"ayon\",True,7.5)\n",
    "tup2 = (1234,'new')\n",
    "print(tup1+tup2)"
   ]
  },
  {
   "cell_type": "code",
   "execution_count": 70,
   "metadata": {},
   "outputs": [
    {
     "data": {
      "text/plain": [
       "'ayon'"
      ]
     },
     "execution_count": 70,
     "metadata": {},
     "output_type": "execute_result"
    }
   ],
   "source": [
    "# Ordered\n",
    "tup1[2]            # 'c'"
   ]
  },
  {
   "cell_type": "code",
   "execution_count": 77,
   "metadata": {},
   "outputs": [],
   "source": [
    "# immutable\n",
    "tup1[3] = \"ayon\"         # 'tuple' object does not support item assignment\n",
    "tup1[1:3] = (1,2)         # 'tuple' object does not support item assignment"
   ]
  },
  {
   "cell_type": "code",
   "execution_count": 75,
   "metadata": {},
   "outputs": [
    {
     "data": {
      "text/plain": [
       "(1234, 'new', 1234, 'new')"
      ]
     },
     "execution_count": 75,
     "metadata": {},
     "output_type": "execute_result"
    }
   ],
   "source": [
    "tup1          # ('c', 21, 'ayon', True, 7.5)\n",
    "tup1[1:3]     # (21, 2)\n",
    "tup1[2:]      # ('ayon', True, 7.5)\n",
    "tup1+tup2     # (('c', 21, 'ayon', True, 7.5), 1234, 'new')\n",
    "tup2*2        # (1234, 'new', 1234, 'new')"
   ]
  },
  {
   "cell_type": "code",
   "execution_count": null,
   "metadata": {},
   "outputs": [],
   "source": [
    "# 4.perform a case study on the following operations in tuple \n",
    "#    1.maxima\n",
    "#    2,minima\n",
    "#    3.concatenation of two tuple \n",
    "#    4.duplicate a tuple \n",
    "#    5.slicing a tuple\n",
    "#    6.obtaining a list from a tulple \n",
    "#    7.compare two tuples \n",
    "#    8.printing 2 tuples of diffeent data types."
   ]
  },
  {
   "cell_type": "code",
   "execution_count": 85,
   "metadata": {},
   "outputs": [
    {
     "data": {
      "text/plain": [
       "[1, 2, 3, 4, 5]"
      ]
     },
     "execution_count": 85,
     "metadata": {},
     "output_type": "execute_result"
    }
   ],
   "source": [
    "tup1 = (1,2,3,4,5)\n",
    "tup2 = (6,7,8,9,10)\n",
    "max(tup1)       # 5\n",
    "min(tup1)       # 1\n",
    "tup2+tup1       # (6, 7, 8, 9, 10, 1, 2, 3, 4, 5)\n",
    "tup_Dup = tup1.copy() # (1, 2, 3, 4, 5)\n",
    "tup1[1:3]       # (2, 3)\n",
    "list(tup1)        # [1, 2, 3, 4, 5]\n",
    "tup1 == tup2      # False\n",
    "tup1 = ('c',21,\"ayon\",True,7.5)\n",
    "tup2 = (1234,'new')"
   ]
  },
  {
   "cell_type": "markdown",
   "metadata": {},
   "source": [
    "### Dictionary"
   ]
  },
  {
   "cell_type": "code",
   "execution_count": 45,
   "metadata": {},
   "outputs": [],
   "source": [
    "dict1 = {'a':1,2:2,4.5:\"CP\",False:\"ayon is cool\"}  \n",
    "dict2 = {9:True}"
   ]
  },
  {
   "cell_type": "code",
   "execution_count": 13,
   "metadata": {},
   "outputs": [
    {
     "data": {
      "text/plain": [
       "{1: 'a', 2: 'b', 3: 'c', 4: 'd', 5: [True, False, 'AYON']}"
      ]
     },
     "execution_count": 13,
     "metadata": {},
     "output_type": "execute_result"
    }
   ],
   "source": [
    "lst = [True,False,'AYON']\n",
    "lst1 = [1,2,3,4,5]\n",
    "lst2 = ['a','b','c','d',lst]\n",
    "dict(zip(lst1,lst2)) # {1: 'a', 2: 'b', 3: 'c', 4: 'd', 5: [True, False, 'AYON']}"
   ]
  },
  {
   "cell_type": "code",
   "execution_count": 8,
   "metadata": {},
   "outputs": [
    {
     "name": "stdout",
     "output_type": "stream",
     "text": [
      "good\n",
      "[1, 4]\n"
     ]
    }
   ],
   "source": [
    "def foo():\n",
    "    return \"good\"\n",
    "dit = {45:[1,4],1:foo()}\n",
    "print(dit[1])\n",
    "dit2 = {45:[1,4]}\n",
    "print(dit2[45])"
   ]
  },
  {
   "cell_type": "code",
   "execution_count": 18,
   "metadata": {},
   "outputs": [
    {
     "name": "stdout",
     "output_type": "stream",
     "text": [
      "{1: 'one', 5: 'five', 12: 'twelve', 76: 'seventsix', 443: 'forhumdred'}\n",
      "{5: 'five', 443: 'forhumdred', 1: 'one', 76: 'seventsix', 12: 'twelve'}\n",
      "{1: 'one', 5: 'five', 12: 'twelve', 76: 'seventsix', 443: 'forhumdred'}\n",
      "{443: 'forhumdred', 76: 'seventsix', 12: 'twelve', 5: 'five', 1: 'one'}\n",
      "{76: 'seventsix', 5: 'five', 1: 'one', 443: 'forhumdred', 12: 'twelve'}\n"
     ]
    }
   ],
   "source": [
    "to_sort = {12: 'twelve', 76: 'seventsix', 5: 'five', 443: 'forhumdred', 1: 'one'}\n",
    "print(dict(sorted(to_sort.items())))                                                       #------------------------------(rem)\n",
    "# {key:val for key,val in sorted(to_sort.items())}                                  # {1: 'one', 5: 'five', 12: 'twelve', 76: 'seventsix', 443: 'forhumdred'}\n",
    "print({key:val for key,val in sorted(to_sort.items() , key= lambda v:v[1])} )\n",
    "print({key:val for key,val in sorted(to_sort.items() , key= lambda v:len(v[1]))})\n",
    "print({key:val for key,val in sorted(to_sort.items() , key= lambda v:len(v[1]) , reverse=True)})\n",
    "print({key:val for key,val in sorted(to_sort.items() , key = lambda v:v[1][1])})     # sorting wrt val's 2nd char"
   ]
  },
  {
   "cell_type": "code",
   "execution_count": 61,
   "metadata": {},
   "outputs": [
    {
     "data": {
      "text/plain": [
       "{'a': 1,\n",
       " 2: 2,\n",
       " 4.5: 'CP',\n",
       " False: 'ayon is cool',\n",
       " 'this key is not in dict': 'this is the default value',\n",
       " 'this': 'THIS',\n",
       " 'thisNew': 'THIS',\n",
       " 9: True}"
      ]
     },
     "execution_count": 61,
     "metadata": {},
     "output_type": "execute_result"
    }
   ],
   "source": [
    "dict1[False]        # 'ayon is cool'\n",
    "dict1[4.5]          # 'CP'\n",
    "dict2[9]            # True\n",
    "\n",
    "\n",
    "dict1.keys()        # dict_keys(['a', 2, 4.5, False])\n",
    "dict1.values()      # dict_values([1, 2, 'CP', 'ayon is cool'])\n",
    "cp_dict1 = dict1.copy()        # {'a': 1, 2: 2, 4.5: 'CP', False: 'ayon is cool'}\n",
    "cp_dict1                       # {'a': 1, 2: 2, 4.5: 'CP', False: 'ayon is cool'}\n",
    "dict1.items()       # dict_items([('a', 1), (2, 2), (4.5, 'CP'), (False, 'ayon is cool')])\n",
    "dict1.get(\"this key is not in dict\") # None                        #------------------------------(rem)\n",
    "dict1.setdefault(\"thisNew\",\"THIS\")   # 'THIS'                         #------------------------------(rem)\n",
    "# dict1.clear()       # {}\n",
    "dict1.update(dict2) # {'a': 1, 2: 2, 4.5: 'CP', False: 'ayon is cool', 9: True}     #------------------------------(rem)\n",
    "dict1"
   ]
  },
  {
   "cell_type": "markdown",
   "metadata": {},
   "source": [
    "## Loops\n",
    "### for while for-else"
   ]
  },
  {
   "cell_type": "code",
   "execution_count": null,
   "metadata": {},
   "outputs": [],
   "source": []
  },
  {
   "cell_type": "code",
   "execution_count": 48,
   "metadata": {},
   "outputs": [
    {
     "data": {
      "text/plain": [
       "{'a': 1, 2: 2, 4.5: 'CP', False: 'ayon is cool'}"
      ]
     },
     "execution_count": 48,
     "metadata": {},
     "output_type": "execute_result"
    }
   ],
   "source": []
  },
  {
   "cell_type": "code",
   "execution_count": 63,
   "metadata": {},
   "outputs": [
    {
     "name": "stdout",
     "output_type": "stream",
     "text": [
      "1\n"
     ]
    }
   ],
   "source": [
    "import os\n",
    "print(os.system(\"ls\"))"
   ]
  },
  {
   "cell_type": "markdown",
   "metadata": {},
   "source": [
    "# Task 1"
   ]
  },
  {
   "cell_type": "code",
   "execution_count": null,
   "metadata": {},
   "outputs": [],
   "source": [
    "# ------------------<Task 1>------------------\n",
    "# 1.write a program to convert temp in degree farenheit into celcius\n",
    "# 2.write a program to exchange the value of two  variable using a temp variable\n",
    "# 3.write a program to find the distance between 2 points.\n",
    "# 4.perform a case study on the following operations in tuple \n",
    "#    1.maxima\n",
    "#    2,minima\n",
    "#    3.concatenation of two tuple \n",
    "#    4.duplicate a tuple \n",
    "#    5.slicing a tuple\n",
    "#    6.obtaining a list from a tulple \n",
    "#    7.compare two tuples \n",
    "#    8.printing 2 tuples of diffeent data types.  ----top\n",
    "\n",
    "#    9.write a program to find out square root of 2 numbers\n",
    "#    10.write a program find factorial of number\n",
    "#    11.program sum of digits of a number\n",
    "#    12.write a program to reverse a number\n",
    "#    13.write a program to check whether tn=he the given number is palindrome or nt\n",
    "#    14.write a program to print fibonacci series\n",
    "#    15.write a program to print primenumbers in a range.\n",
    "#    16.write a program to find the greatest of three numbers.\n",
    "#    17.design a calculator."
   ]
  },
  {
   "cell_type": "code",
   "execution_count": 68,
   "metadata": {},
   "outputs": [
    {
     "data": {
      "text/plain": [
       "0.0"
      ]
     },
     "execution_count": 68,
     "metadata": {},
     "output_type": "execute_result"
    }
   ],
   "source": [
    "# 1.write a program to convert temp in degree farenheit into celcius\n",
    "def degree_farenheit_to_celcius(temp):\n",
    "    return (temp-32)*5/9\n",
    "degree_farenheit_to_celcius(32)"
   ]
  },
  {
   "cell_type": "code",
   "execution_count": null,
   "metadata": {},
   "outputs": [],
   "source": [
    "# 2.write a program to exchange the value of two  variable using a temp variable\n",
    "a,b = 1,2\n",
    "print(a,b)   # 1 2\n",
    "a,b = b,a\n",
    "print(b,a)   # 2 1"
   ]
  },
  {
   "cell_type": "code",
   "execution_count": 67,
   "metadata": {},
   "outputs": [
    {
     "data": {
      "text/plain": [
       "1.4142135623730951"
      ]
     },
     "execution_count": 67,
     "metadata": {},
     "output_type": "execute_result"
    }
   ],
   "source": [
    "# 3.write a program to find the distance between 2 points.\n",
    "x1,x2 = 1,2\n",
    "y1,y2 = 5,6\n",
    "((x1-x2)**2+(y1-y2)**2)**0.5"
   ]
  },
  {
   "cell_type": "code",
   "execution_count": null,
   "metadata": {},
   "outputs": [],
   "source": [
    "# 4.perform a case study on the following operations in tuple \n",
    "#  sum are in are Done in the above program"
   ]
  },
  {
   "cell_type": "markdown",
   "metadata": {},
   "source": [
    "[Code](###Tuple)  1- 8 "
   ]
  },
  {
   "cell_type": "code",
   "execution_count": 89,
   "metadata": {},
   "outputs": [
    {
     "data": {
      "text/plain": [
       "720"
      ]
     },
     "execution_count": 89,
     "metadata": {},
     "output_type": "execute_result"
    }
   ],
   "source": [
    "num = 6\n",
    "factorial_num = 1\n",
    "for n in range(1,num+1):\n",
    "    factorial_num = factorial_num*n\n",
    "factorial_num"
   ]
  },
  {
   "cell_type": "code",
   "execution_count": 9,
   "metadata": {},
   "outputs": [
    {
     "name": "stdout",
     "output_type": "stream",
     "text": [
      "0\n"
     ]
    }
   ],
   "source": [
    "#    11.program sum of digits of a number\n",
    "nn = 1234;sum = 0\n",
    "for _ in range(len(str(nn))):\n",
    "    sum += nn%10\n",
    "    nn = nn//10\n",
    "print(nn)"
   ]
  },
  {
   "cell_type": "code",
   "execution_count": 2,
   "metadata": {},
   "outputs": [
    {
     "name": "stdout",
     "output_type": "stream",
     "text": [
      "54321"
     ]
    }
   ],
   "source": [
    "#    12.write a program to reverse a number\n",
    "nn = 12345\n",
    "for _ in range(len(str(nn))):\n",
    "    print(nn%10,end=\"\")\n",
    "    nn = nn//10"
   ]
  },
  {
   "cell_type": "code",
   "execution_count": 6,
   "metadata": {},
   "outputs": [
    {
     "data": {
      "text/plain": [
       "True"
      ]
     },
     "execution_count": 6,
     "metadata": {},
     "output_type": "execute_result"
    }
   ],
   "source": [
    "#    13.write a program to check whether tn=he the given number is palindrome or nt\n",
    "str_p = input()\n",
    "str_p[::-1] == str_p"
   ]
  },
  {
   "cell_type": "code",
   "execution_count": 5,
   "metadata": {},
   "outputs": [
    {
     "name": "stdout",
     "output_type": "stream",
     "text": [
      "0 1 1 2 3 5 8 13 21 34 "
     ]
    }
   ],
   "source": [
    "#    14.write a program to print fibonacci series\n",
    "a,b = 0,1\n",
    "for i in range(10):\n",
    "    print(a,end=\" \")\n",
    "    a,b = b,a+b"
   ]
  },
  {
   "cell_type": "code",
   "execution_count": 4,
   "metadata": {},
   "outputs": [
    {
     "name": "stdout",
     "output_type": "stream",
     "text": [
      "2 3 5 7 11 13 17 19 23 29 31 37 41 43 47 "
     ]
    }
   ],
   "source": [
    "#    15.write a program to print primenumbers in a range.\n",
    "n,m = map(int,input().split())\n",
    "for i in range(2,50):\n",
    "    for j in range(2,i):\n",
    "        if i%j == 0:\n",
    "            break\n",
    "    else:\n",
    "        print(i,end=\" \")"
   ]
  },
  {
   "cell_type": "code",
   "execution_count": 1,
   "metadata": {},
   "outputs": [
    {
     "data": {
      "text/plain": [
       "9"
      ]
     },
     "execution_count": 1,
     "metadata": {},
     "output_type": "execute_result"
    }
   ],
   "source": [
    "#    16.write a program to find the greatest of three numbers.\n",
    "a,b,c = map(int,input().split())\n",
    "max(a,b,c)"
   ]
  },
  {
   "cell_type": "code",
   "execution_count": null,
   "metadata": {},
   "outputs": [],
   "source": [
    "#    17.design a calculator."
   ]
  },
  {
   "cell_type": "code",
   "execution_count": null,
   "metadata": {},
   "outputs": [],
   "source": [
    "print(\"merge in the presence of saicharan\")"
   ]
  }
 ],
 "metadata": {
  "kernelspec": {
   "display_name": "Python 3.10.6 64-bit (windows store)",
   "language": "python",
   "name": "python3"
  },
  "language_info": {
   "codemirror_mode": {
    "name": "ipython",
    "version": 3
   },
   "file_extension": ".py",
   "mimetype": "text/x-python",
   "name": "python",
   "nbconvert_exporter": "python",
   "pygments_lexer": "ipython3",
   "version": "3.10.6"
  },
  "orig_nbformat": 4,
  "vscode": {
   "interpreter": {
    "hash": "8bf0d51478355d2251941b3b98616086516a0eddd7c72ee47a3371765770709a"
   }
  }
 },
 "nbformat": 4,
 "nbformat_minor": 2
}
